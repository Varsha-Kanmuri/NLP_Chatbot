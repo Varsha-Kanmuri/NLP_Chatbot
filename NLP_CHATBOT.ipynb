{
 "cells": [
  {
   "cell_type": "code",
   "execution_count": 1,
   "metadata": {},
   "outputs": [],
   "source": [
    "#All necessary imports\n",
    "import pandas as pd\n",
    "import nltk\n"
   ]
  },
  {
   "cell_type": "code",
   "execution_count": 2,
   "metadata": {},
   "outputs": [],
   "source": [
    "df = pd.read_excel('chatbot_ds(3)(2).xlsx', sheet_name='Sheet1')"
   ]
  },
  {
   "cell_type": "code",
   "execution_count": 3,
   "metadata": {},
   "outputs": [
    {
     "data": {
      "text/html": [
       "<div>\n",
       "<style scoped>\n",
       "    .dataframe tbody tr th:only-of-type {\n",
       "        vertical-align: middle;\n",
       "    }\n",
       "\n",
       "    .dataframe tbody tr th {\n",
       "        vertical-align: top;\n",
       "    }\n",
       "\n",
       "    .dataframe thead th {\n",
       "        text-align: right;\n",
       "    }\n",
       "</style>\n",
       "<table border=\"1\" class=\"dataframe\">\n",
       "  <thead>\n",
       "    <tr style=\"text-align: right;\">\n",
       "      <th></th>\n",
       "      <th>Intention</th>\n",
       "      <th>question</th>\n",
       "      <th>answer</th>\n",
       "    </tr>\n",
       "  </thead>\n",
       "  <tbody>\n",
       "    <tr>\n",
       "      <th>0</th>\n",
       "      <td>Investment Solutions</td>\n",
       "      <td>I wish to invest on financial markets</td>\n",
       "      <td>You have the choice between three management o...</td>\n",
       "    </tr>\n",
       "    <tr>\n",
       "      <th>1</th>\n",
       "      <td>Investment Solutions</td>\n",
       "      <td>I want to maintain control over my decisions w...</td>\n",
       "      <td>You have the choice between three management o...</td>\n",
       "    </tr>\n",
       "    <tr>\n",
       "      <th>2</th>\n",
       "      <td>Investment Solutions</td>\n",
       "      <td>I want to access directly trading room experts</td>\n",
       "      <td>You have the choice between three management o...</td>\n",
       "    </tr>\n",
       "    <tr>\n",
       "      <th>3</th>\n",
       "      <td>Investment Solutions</td>\n",
       "      <td>I am a professional client, and I look for a d...</td>\n",
       "      <td>You have the choice between three management o...</td>\n",
       "    </tr>\n",
       "    <tr>\n",
       "      <th>4</th>\n",
       "      <td>Investment Solutions</td>\n",
       "      <td>I look for investment advices</td>\n",
       "      <td>You have the choice between three management o...</td>\n",
       "    </tr>\n",
       "  </tbody>\n",
       "</table>\n",
       "</div>"
      ],
      "text/plain": [
       "              Intention                                           question  \\\n",
       "0  Investment Solutions              I wish to invest on financial markets   \n",
       "1  Investment Solutions  I want to maintain control over my decisions w...   \n",
       "2  Investment Solutions     I want to access directly trading room experts   \n",
       "3  Investment Solutions  I am a professional client, and I look for a d...   \n",
       "4  Investment Solutions                      I look for investment advices   \n",
       "\n",
       "                                              answer  \n",
       "0  You have the choice between three management o...  \n",
       "1  You have the choice between three management o...  \n",
       "2  You have the choice between three management o...  \n",
       "3  You have the choice between three management o...  \n",
       "4  You have the choice between three management o...  "
      ]
     },
     "execution_count": 3,
     "metadata": {},
     "output_type": "execute_result"
    }
   ],
   "source": [
    "df.head()"
   ]
  },
  {
   "cell_type": "code",
   "execution_count": 4,
   "metadata": {},
   "outputs": [
    {
     "name": "stdout",
     "output_type": "stream",
     "text": [
      "               Intention                                           question  \\\n",
      "0   Investment Solutions              I wish to invest on financial markets   \n",
      "1   Investment Solutions  I want to maintain control over my decisions w...   \n",
      "2   Investment Solutions     I want to access directly trading room experts   \n",
      "3   Investment Solutions  I am a professional client, and I look for a d...   \n",
      "4   Investment Solutions                      I look for investment advices   \n",
      "5   Investment Solutions  I want to know more about discretionary manage...   \n",
      "6   Investment Solutions                    I want to discover advice offer   \n",
      "7   Investment Solutions             I want to discover Prime Market Access   \n",
      "8   Investment Solutions         What is discretionary Portfolio Management   \n",
      "9   Investment Solutions                             What is Advice Mandate   \n",
      "10              Good Bye                                                Bye   \n",
      "11              Good Bye                                            Bye Bye   \n",
      "12              Good Bye                                            See you   \n",
      "13       Wealth Planning                      I want to structure my wealth   \n",
      "14       Wealth Planning         I want to structure my investment projects   \n",
      "15       Wealth Planning                      I want to transmit my company   \n",
      "16       Wealth Planning                       I need internation expertise   \n",
      "17       Wealth Planning                I look for tax taylor made approach   \n",
      "18                 Hello                                        Hello there   \n",
      "19                 Hello                                                 Hi   \n",
      "20                 Hello                                           Hi there   \n",
      "21                 Hello                                                Hey   \n",
      "22                 Hello                                       good morning   \n",
      "23                 Hello                                       good evening   \n",
      "24                 Hello                                     good afternoon   \n",
      "25                 Hello                                         good night   \n",
      "26           How are you                                      How are you ?   \n",
      "27           How are you                                How are you doing ?   \n",
      "28           How are you                                  How is it going ?   \n",
      "29           How are you                                  How are you going   \n",
      "..                   ...                                                ...   \n",
      "52               Contact                              how can I contact you   \n",
      "53  Art and Philanthropy                I need advice for my art collection   \n",
      "54  Art and Philanthropy                            I want to invest in art   \n",
      "55  Art and Philanthropy                  I have questions about art market   \n",
      "56  Art and Philanthropy                  I want valuation of my collection   \n",
      "57  Art and Philanthropy                 I want estimation of my art pieces   \n",
      "58  Art and Philanthropy       I would like to make wealth gift to the arts   \n",
      "59  Art and Philanthropy             I want to support a charitable project   \n",
      "60  Art and Philanthropy                      I want to create a foundation   \n",
      "61  Art and Philanthropy                    I am interested in philanthropy   \n",
      "62             Financing                           I need a short-term loan   \n",
      "63             Financing                             I want lombard credits   \n",
      "64             Financing                    I don't know what credit I need   \n",
      "65             Financing                             What is lombard credit   \n",
      "66             Financing                             I need a mortgage loan   \n",
      "67             Financing                          Tell me your credit rates   \n",
      "68             Financing                   I want to finance an acquisition   \n",
      "69             Financing                          I need to finance a yatch   \n",
      "70             Financing                    I need to finance a private jet   \n",
      "71             Financing                  I would like to monetise an asset   \n",
      "72   Corporate solutions                               I am an entrepreneur   \n",
      "73   Corporate solutions          What are your solutions for entrepreneurs   \n",
      "74   Corporate solutions  I am considering external growth opportunity f...   \n",
      "75   Corporate solutions  I am considering a change in my company capita...   \n",
      "76   Corporate solutions                          I want to sale my company   \n",
      "77   Corporate solutions               I want to buy commercial real estate   \n",
      "78   Corporate solutions              I want to sell commercial real estate   \n",
      "79   Corporate solutions                      I want to take part in an IPO   \n",
      "80   Corporate solutions                  I want to take part in bond issue   \n",
      "81   Corporate solutions             I want to take part in an equity issue   \n",
      "\n",
      "                                               answer  \n",
      "0   You have the choice between three management o...  \n",
      "1   You have the choice between three management o...  \n",
      "2   You have the choice between three management o...  \n",
      "3   You have the choice between three management o...  \n",
      "4   You have the choice between three management o...  \n",
      "5   You have the choice between three management o...  \n",
      "6   You have the choice between three management o...  \n",
      "7   You have the choice between three management o...  \n",
      "8   You have the choice between three management o...  \n",
      "9   You have the choice between three management o...  \n",
      "10                   Good bye and see you next time !  \n",
      "11                   Good bye and see you next time !  \n",
      "12                   Good bye and see you next time !  \n",
      "13  Our wealth planning experts are able to define...  \n",
      "14  Our wealth planning experts are able to define...  \n",
      "15  Our wealth planning experts are able to define...  \n",
      "16  Our wealth planning experts are able to define...  \n",
      "17  Our wealth planning experts are able to define...  \n",
      "18      Hello, nice to meet you. How may I help you ?  \n",
      "19      Hello, nice to meet you. How may I help you ?  \n",
      "20      Hello, nice to meet you. How may I help you ?  \n",
      "21      Hello, nice to meet you. How may I help you ?  \n",
      "22      Hello, nice to meet you. How may I help you ?  \n",
      "23      Hello, nice to meet you. How may I help you ?  \n",
      "24      Hello, nice to meet you. How may I help you ?  \n",
      "25      Hello, nice to meet you. How may I help you ?  \n",
      "26  I am fine thankyou . Is there something I can ...  \n",
      "27  I am fine thankyou . Is there something I can ...  \n",
      "28  I am fine thankyou . Is there something I can ...  \n",
      "29  I am fine thankyou . Is there something I can ...  \n",
      "..                                                ...  \n",
      "52  Here is how we can get in touch : by calling y...  \n",
      "53  We can help you with art and philanthropy aim....  \n",
      "54  We can help you with art and philanthropy aim....  \n",
      "55  We can help you with art and philanthropy aim....  \n",
      "56  We can help you with art and philanthropy aim....  \n",
      "57  We can help you with art and philanthropy aim....  \n",
      "58  We can help you with art and philanthropy aim....  \n",
      "59  We can help you with art and philanthropy aim....  \n",
      "60  We can help you with art and philanthropy aim....  \n",
      "61  We can help you with art and philanthropy aim....  \n",
      "62  Our experts can advice and assist you in setti...  \n",
      "63  Our experts can advice and assist you in setti...  \n",
      "64  Our experts can advice and assist you in setti...  \n",
      "65  Our experts can advice and assist you in setti...  \n",
      "66  Our experts can advice and assist you in setti...  \n",
      "67  Our experts can advice and assist you in setti...  \n",
      "68  Our experts can advice and assist you in setti...  \n",
      "69  Our experts can advice and assist you in setti...  \n",
      "70  Our experts can advice and assist you in setti...  \n",
      "71  Our experts can advice and assist you in setti...  \n",
      "72  We can mobilise the expertise in Corporate and...  \n",
      "73  We can mobilise the expertise in Corporate and...  \n",
      "74  We can mobilise the expertise in Corporate and...  \n",
      "75  We can mobilise the expertise in Corporate and...  \n",
      "76  We can mobilise the expertise in Corporate and...  \n",
      "77  We can mobilise the expertise in Corporate and...  \n",
      "78  We can mobilise the expertise in Corporate and...  \n",
      "79  We can mobilise the expertise in Corporate and...  \n",
      "80  We can mobilise the expertise in Corporate and...  \n",
      "81  We can mobilise the expertise in Corporate and...  \n",
      "\n",
      "[82 rows x 3 columns]\n"
     ]
    }
   ],
   "source": [
    "print(df)"
   ]
  },
  {
   "cell_type": "code",
   "execution_count": 5,
   "metadata": {},
   "outputs": [
    {
     "data": {
      "text/html": [
       "<div>\n",
       "<style scoped>\n",
       "    .dataframe tbody tr th:only-of-type {\n",
       "        vertical-align: middle;\n",
       "    }\n",
       "\n",
       "    .dataframe tbody tr th {\n",
       "        vertical-align: top;\n",
       "    }\n",
       "\n",
       "    .dataframe thead th {\n",
       "        text-align: right;\n",
       "    }\n",
       "</style>\n",
       "<table border=\"1\" class=\"dataframe\">\n",
       "  <thead>\n",
       "    <tr style=\"text-align: right;\">\n",
       "      <th></th>\n",
       "      <th>Intention</th>\n",
       "      <th>question</th>\n",
       "      <th>answer</th>\n",
       "    </tr>\n",
       "  </thead>\n",
       "  <tbody>\n",
       "    <tr>\n",
       "      <th>count</th>\n",
       "      <td>82</td>\n",
       "      <td>82</td>\n",
       "      <td>82</td>\n",
       "    </tr>\n",
       "    <tr>\n",
       "      <th>unique</th>\n",
       "      <td>10</td>\n",
       "      <td>82</td>\n",
       "      <td>10</td>\n",
       "    </tr>\n",
       "    <tr>\n",
       "      <th>top</th>\n",
       "      <td>How are you</td>\n",
       "      <td>What's up</td>\n",
       "      <td>I am fine thankyou . Is there something I can ...</td>\n",
       "    </tr>\n",
       "    <tr>\n",
       "      <th>freq</th>\n",
       "      <td>14</td>\n",
       "      <td>1</td>\n",
       "      <td>14</td>\n",
       "    </tr>\n",
       "  </tbody>\n",
       "</table>\n",
       "</div>"
      ],
      "text/plain": [
       "          Intention   question  \\\n",
       "count            82         82   \n",
       "unique           10         82   \n",
       "top     How are you  What's up   \n",
       "freq             14          1   \n",
       "\n",
       "                                                   answer  \n",
       "count                                                  82  \n",
       "unique                                                 10  \n",
       "top     I am fine thankyou . Is there something I can ...  \n",
       "freq                                                   14  "
      ]
     },
     "execution_count": 5,
     "metadata": {},
     "output_type": "execute_result"
    }
   ],
   "source": [
    "df.describe()"
   ]
  },
  {
   "cell_type": "code",
   "execution_count": 6,
   "metadata": {},
   "outputs": [
    {
     "name": "stdout",
     "output_type": "stream",
     "text": [
      "Index(['Intention', 'question', 'answer'], dtype='object')\n"
     ]
    }
   ],
   "source": [
    "print(df.columns)"
   ]
  },
  {
   "cell_type": "markdown",
   "metadata": {},
   "source": [
    "## Preprocessing of data set"
   ]
  },
  {
   "cell_type": "code",
   "execution_count": 7,
   "metadata": {},
   "outputs": [],
   "source": [
    "questions_answers = ['question','answer'] #selecting only columns important to us"
   ]
  },
  {
   "cell_type": "code",
   "execution_count": 8,
   "metadata": {},
   "outputs": [],
   "source": [
    "qa = df[questions_answers]"
   ]
  },
  {
   "cell_type": "code",
   "execution_count": 9,
   "metadata": {},
   "outputs": [
    {
     "data": {
      "text/html": [
       "<div>\n",
       "<style scoped>\n",
       "    .dataframe tbody tr th:only-of-type {\n",
       "        vertical-align: middle;\n",
       "    }\n",
       "\n",
       "    .dataframe tbody tr th {\n",
       "        vertical-align: top;\n",
       "    }\n",
       "\n",
       "    .dataframe thead th {\n",
       "        text-align: right;\n",
       "    }\n",
       "</style>\n",
       "<table border=\"1\" class=\"dataframe\">\n",
       "  <thead>\n",
       "    <tr style=\"text-align: right;\">\n",
       "      <th></th>\n",
       "      <th>question</th>\n",
       "      <th>answer</th>\n",
       "    </tr>\n",
       "  </thead>\n",
       "  <tbody>\n",
       "    <tr>\n",
       "      <th>0</th>\n",
       "      <td>I wish to invest on financial markets</td>\n",
       "      <td>You have the choice between three management o...</td>\n",
       "    </tr>\n",
       "    <tr>\n",
       "      <th>1</th>\n",
       "      <td>I want to maintain control over my decisions w...</td>\n",
       "      <td>You have the choice between three management o...</td>\n",
       "    </tr>\n",
       "    <tr>\n",
       "      <th>2</th>\n",
       "      <td>I want to access directly trading room experts</td>\n",
       "      <td>You have the choice between three management o...</td>\n",
       "    </tr>\n",
       "    <tr>\n",
       "      <th>3</th>\n",
       "      <td>I am a professional client, and I look for a d...</td>\n",
       "      <td>You have the choice between three management o...</td>\n",
       "    </tr>\n",
       "    <tr>\n",
       "      <th>4</th>\n",
       "      <td>I look for investment advices</td>\n",
       "      <td>You have the choice between three management o...</td>\n",
       "    </tr>\n",
       "  </tbody>\n",
       "</table>\n",
       "</div>"
      ],
      "text/plain": [
       "                                            question  \\\n",
       "0              I wish to invest on financial markets   \n",
       "1  I want to maintain control over my decisions w...   \n",
       "2     I want to access directly trading room experts   \n",
       "3  I am a professional client, and I look for a d...   \n",
       "4                      I look for investment advices   \n",
       "\n",
       "                                              answer  \n",
       "0  You have the choice between three management o...  \n",
       "1  You have the choice between three management o...  \n",
       "2  You have the choice between three management o...  \n",
       "3  You have the choice between three management o...  \n",
       "4  You have the choice between three management o...  "
      ]
     },
     "execution_count": 9,
     "metadata": {},
     "output_type": "execute_result"
    }
   ],
   "source": [
    "qa.head()"
   ]
  },
  {
   "cell_type": "code",
   "execution_count": 10,
   "metadata": {},
   "outputs": [
    {
     "data": {
      "text/html": [
       "<div>\n",
       "<style scoped>\n",
       "    .dataframe tbody tr th:only-of-type {\n",
       "        vertical-align: middle;\n",
       "    }\n",
       "\n",
       "    .dataframe tbody tr th {\n",
       "        vertical-align: top;\n",
       "    }\n",
       "\n",
       "    .dataframe thead th {\n",
       "        text-align: right;\n",
       "    }\n",
       "</style>\n",
       "<table border=\"1\" class=\"dataframe\">\n",
       "  <thead>\n",
       "    <tr style=\"text-align: right;\">\n",
       "      <th></th>\n",
       "      <th>question</th>\n",
       "      <th>answer</th>\n",
       "    </tr>\n",
       "  </thead>\n",
       "  <tbody>\n",
       "    <tr>\n",
       "      <th>count</th>\n",
       "      <td>82</td>\n",
       "      <td>82</td>\n",
       "    </tr>\n",
       "    <tr>\n",
       "      <th>unique</th>\n",
       "      <td>1</td>\n",
       "      <td>1</td>\n",
       "    </tr>\n",
       "    <tr>\n",
       "      <th>top</th>\n",
       "      <td>False</td>\n",
       "      <td>False</td>\n",
       "    </tr>\n",
       "    <tr>\n",
       "      <th>freq</th>\n",
       "      <td>82</td>\n",
       "      <td>82</td>\n",
       "    </tr>\n",
       "  </tbody>\n",
       "</table>\n",
       "</div>"
      ],
      "text/plain": [
       "       question answer\n",
       "count        82     82\n",
       "unique        1      1\n",
       "top       False  False\n",
       "freq         82     82"
      ]
     },
     "execution_count": 10,
     "metadata": {},
     "output_type": "execute_result"
    }
   ],
   "source": [
    "pd.isnull(qa).describe() #no null data found"
   ]
  },
  {
   "cell_type": "code",
   "execution_count": 11,
   "metadata": {},
   "outputs": [],
   "source": [
    "qa.duplicated('question')\n",
    "pd.options.display.max_colwidth = 100"
   ]
  },
  {
   "cell_type": "code",
   "execution_count": 12,
   "metadata": {},
   "outputs": [
    {
     "data": {
      "text/html": [
       "<div>\n",
       "<style scoped>\n",
       "    .dataframe tbody tr th:only-of-type {\n",
       "        vertical-align: middle;\n",
       "    }\n",
       "\n",
       "    .dataframe tbody tr th {\n",
       "        vertical-align: top;\n",
       "    }\n",
       "\n",
       "    .dataframe thead th {\n",
       "        text-align: right;\n",
       "    }\n",
       "</style>\n",
       "<table border=\"1\" class=\"dataframe\">\n",
       "  <thead>\n",
       "    <tr style=\"text-align: right;\">\n",
       "      <th></th>\n",
       "      <th>question</th>\n",
       "      <th>answer</th>\n",
       "    </tr>\n",
       "  </thead>\n",
       "  <tbody>\n",
       "    <tr>\n",
       "      <th>0</th>\n",
       "      <td>I wish to invest on financial markets</td>\n",
       "      <td>You have the choice between three management offer we an provide according to your investor's pr...</td>\n",
       "    </tr>\n",
       "  </tbody>\n",
       "</table>\n",
       "</div>"
      ],
      "text/plain": [
       "                                question  \\\n",
       "0  I wish to invest on financial markets   \n",
       "\n",
       "                                                                                                answer  \n",
       "0  You have the choice between three management offer we an provide according to your investor's pr...  "
      ]
     },
     "execution_count": 12,
     "metadata": {},
     "output_type": "execute_result"
    }
   ],
   "source": [
    "qa.loc[qa['question']== \"I wish to invest on financial markets\" ]"
   ]
  },
  {
   "cell_type": "code",
   "execution_count": null,
   "metadata": {},
   "outputs": [],
   "source": [
    "#we have two options,either only take one answer and ignore remaining answers or concatenate all answers and store it against single question\n",
    "\n",
    "#deleting all duplicate question and takind only first answer corresponding to question\n",
    "\n",
    "qa[qa.duplicated(['question'])]\n",
    "\n",
    "qa.drop(qa[qa.duplicated(['question'])].index,inplace= True)"
   ]
  },
  {
   "cell_type": "code",
   "execution_count": 14,
   "metadata": {},
   "outputs": [
    {
     "data": {
      "text/plain": [
       "82"
      ]
     },
     "execution_count": 14,
     "metadata": {},
     "output_type": "execute_result"
    }
   ],
   "source": [
    "len(qa)"
   ]
  },
  {
   "cell_type": "code",
   "execution_count": 15,
   "metadata": {},
   "outputs": [],
   "source": [
    "qa.reset_index(inplace=True)"
   ]
  },
  {
   "cell_type": "code",
   "execution_count": 16,
   "metadata": {},
   "outputs": [
    {
     "name": "stdout",
     "output_type": "stream",
     "text": [
      "Index(['index', 'question', 'answer'], dtype='object')\n"
     ]
    }
   ],
   "source": [
    "print(qa.columns)"
   ]
  },
  {
   "cell_type": "code",
   "execution_count": 17,
   "metadata": {},
   "outputs": [],
   "source": [
    "qa['index']= qa.index"
   ]
  },
  {
   "cell_type": "code",
   "execution_count": 18,
   "metadata": {},
   "outputs": [
    {
     "data": {
      "text/html": [
       "<div>\n",
       "<style scoped>\n",
       "    .dataframe tbody tr th:only-of-type {\n",
       "        vertical-align: middle;\n",
       "    }\n",
       "\n",
       "    .dataframe tbody tr th {\n",
       "        vertical-align: top;\n",
       "    }\n",
       "\n",
       "    .dataframe thead th {\n",
       "        text-align: right;\n",
       "    }\n",
       "</style>\n",
       "<table border=\"1\" class=\"dataframe\">\n",
       "  <thead>\n",
       "    <tr style=\"text-align: right;\">\n",
       "      <th></th>\n",
       "      <th>Intention</th>\n",
       "      <th>question</th>\n",
       "      <th>answer</th>\n",
       "    </tr>\n",
       "  </thead>\n",
       "  <tbody>\n",
       "    <tr>\n",
       "      <th>0</th>\n",
       "      <td>Investment Solutions</td>\n",
       "      <td>I wish to invest on financial markets</td>\n",
       "      <td>You have the choice between three management offer we an provide according to your investor's pr...</td>\n",
       "    </tr>\n",
       "    <tr>\n",
       "      <th>1</th>\n",
       "      <td>Investment Solutions</td>\n",
       "      <td>I want to maintain control over my decisions while benefiting from personalized advices</td>\n",
       "      <td>You have the choice between three management offer we an provide according to your investor's pr...</td>\n",
       "    </tr>\n",
       "    <tr>\n",
       "      <th>2</th>\n",
       "      <td>Investment Solutions</td>\n",
       "      <td>I want to access directly trading room experts</td>\n",
       "      <td>You have the choice between three management offer we an provide according to your investor's pr...</td>\n",
       "    </tr>\n",
       "    <tr>\n",
       "      <th>3</th>\n",
       "      <td>Investment Solutions</td>\n",
       "      <td>I am a professional client, and I look for a direct access to a market professional for the nego...</td>\n",
       "      <td>You have the choice between three management offer we an provide according to your investor's pr...</td>\n",
       "    </tr>\n",
       "    <tr>\n",
       "      <th>4</th>\n",
       "      <td>Investment Solutions</td>\n",
       "      <td>I look for investment advices</td>\n",
       "      <td>You have the choice between three management offer we an provide according to your investor's pr...</td>\n",
       "    </tr>\n",
       "  </tbody>\n",
       "</table>\n",
       "</div>"
      ],
      "text/plain": [
       "              Intention  \\\n",
       "0  Investment Solutions   \n",
       "1  Investment Solutions   \n",
       "2  Investment Solutions   \n",
       "3  Investment Solutions   \n",
       "4  Investment Solutions   \n",
       "\n",
       "                                                                                              question  \\\n",
       "0                                                                I wish to invest on financial markets   \n",
       "1              I want to maintain control over my decisions while benefiting from personalized advices   \n",
       "2                                                       I want to access directly trading room experts   \n",
       "3  I am a professional client, and I look for a direct access to a market professional for the nego...   \n",
       "4                                                                        I look for investment advices   \n",
       "\n",
       "                                                                                                answer  \n",
       "0  You have the choice between three management offer we an provide according to your investor's pr...  \n",
       "1  You have the choice between three management offer we an provide according to your investor's pr...  \n",
       "2  You have the choice between three management offer we an provide according to your investor's pr...  \n",
       "3  You have the choice between three management offer we an provide according to your investor's pr...  \n",
       "4  You have the choice between three management offer we an provide according to your investor's pr...  "
      ]
     },
     "execution_count": 18,
     "metadata": {},
     "output_type": "execute_result"
    }
   ],
   "source": [
    "df.head()"
   ]
  },
  {
   "cell_type": "code",
   "execution_count": 19,
   "metadata": {},
   "outputs": [
    {
     "data": {
      "text/html": [
       "<div>\n",
       "<style scoped>\n",
       "    .dataframe tbody tr th:only-of-type {\n",
       "        vertical-align: middle;\n",
       "    }\n",
       "\n",
       "    .dataframe tbody tr th {\n",
       "        vertical-align: top;\n",
       "    }\n",
       "\n",
       "    .dataframe thead th {\n",
       "        text-align: right;\n",
       "    }\n",
       "</style>\n",
       "<table border=\"1\" class=\"dataframe\">\n",
       "  <thead>\n",
       "    <tr style=\"text-align: right;\">\n",
       "      <th></th>\n",
       "      <th>index</th>\n",
       "      <th>question</th>\n",
       "      <th>answer</th>\n",
       "    </tr>\n",
       "  </thead>\n",
       "  <tbody>\n",
       "    <tr>\n",
       "      <th>0</th>\n",
       "      <td>0</td>\n",
       "      <td>I wish to invest on financial markets</td>\n",
       "      <td>You have the choice between three management offer we an provide according to your investor's pr...</td>\n",
       "    </tr>\n",
       "    <tr>\n",
       "      <th>1</th>\n",
       "      <td>1</td>\n",
       "      <td>I want to maintain control over my decisions while benefiting from personalized advices</td>\n",
       "      <td>You have the choice between three management offer we an provide according to your investor's pr...</td>\n",
       "    </tr>\n",
       "    <tr>\n",
       "      <th>2</th>\n",
       "      <td>2</td>\n",
       "      <td>I want to access directly trading room experts</td>\n",
       "      <td>You have the choice between three management offer we an provide according to your investor's pr...</td>\n",
       "    </tr>\n",
       "    <tr>\n",
       "      <th>3</th>\n",
       "      <td>3</td>\n",
       "      <td>I am a professional client, and I look for a direct access to a market professional for the nego...</td>\n",
       "      <td>You have the choice between three management offer we an provide according to your investor's pr...</td>\n",
       "    </tr>\n",
       "    <tr>\n",
       "      <th>4</th>\n",
       "      <td>4</td>\n",
       "      <td>I look for investment advices</td>\n",
       "      <td>You have the choice between three management offer we an provide according to your investor's pr...</td>\n",
       "    </tr>\n",
       "  </tbody>\n",
       "</table>\n",
       "</div>"
      ],
      "text/plain": [
       "   index  \\\n",
       "0      0   \n",
       "1      1   \n",
       "2      2   \n",
       "3      3   \n",
       "4      4   \n",
       "\n",
       "                                                                                              question  \\\n",
       "0                                                                I wish to invest on financial markets   \n",
       "1              I want to maintain control over my decisions while benefiting from personalized advices   \n",
       "2                                                       I want to access directly trading room experts   \n",
       "3  I am a professional client, and I look for a direct access to a market professional for the nego...   \n",
       "4                                                                        I look for investment advices   \n",
       "\n",
       "                                                                                                answer  \n",
       "0  You have the choice between three management offer we an provide according to your investor's pr...  \n",
       "1  You have the choice between three management offer we an provide according to your investor's pr...  \n",
       "2  You have the choice between three management offer we an provide according to your investor's pr...  \n",
       "3  You have the choice between three management offer we an provide according to your investor's pr...  \n",
       "4  You have the choice between three management offer we an provide according to your investor's pr...  "
      ]
     },
     "execution_count": 19,
     "metadata": {},
     "output_type": "execute_result"
    }
   ],
   "source": [
    "qa.head()"
   ]
  },
  {
   "cell_type": "markdown",
   "metadata": {},
   "source": [
    "We have now done some preprocessing of dataset.  "
   ]
  },
  {
   "cell_type": "markdown",
   "metadata": {},
   "source": [
    "# Movind on to processing input (question entered to out chatbot)"
   ]
  },
  {
   "cell_type": "code",
   "execution_count": 20,
   "metadata": {},
   "outputs": [
    {
     "name": "stdout",
     "output_type": "stream",
     "text": [
      "Hi there! How can I help you ? how can I contact you\n",
      "how can I contact you\n"
     ]
    }
   ],
   "source": [
    "#Input the Question to chatbot\n",
    "\n",
    "asked_question = input(\"Hi there! How can I help you ? \") \n",
    "print(asked_question)"
   ]
  },
  {
   "cell_type": "code",
   "execution_count": 21,
   "metadata": {},
   "outputs": [],
   "source": [
    "#for empty input return default\n",
    "if(asked_question==''):\n",
    "    print(\"Sorry I don't have a respone. I am constantly learning\")"
   ]
  },
  {
   "cell_type": "code",
   "execution_count": 22,
   "metadata": {},
   "outputs": [],
   "source": [
    "#for smileys - cause nltk removes all such special characters , we write separate logic \n",
    "\n",
    "smileys = [':)','(:','^^','^_^',';)','(;','XD',':p',';p']\n",
    "\n",
    "if asked_question.replace(\" \",\"\") in smileys:\n",
    "    print(':)')"
   ]
  },
  {
   "cell_type": "code",
   "execution_count": 24,
   "metadata": {},
   "outputs": [],
   "source": [
    "from nltk.tokenize import word_tokenize, sent_tokenize"
   ]
  },
  {
   "cell_type": "code",
   "execution_count": null,
   "metadata": {},
   "outputs": [],
   "source": [
    "nltk.download('punkt')\n",
    "sents = sent_tokenize(asked_question)\n",
    "print(sents)"
   ]
  },
  {
   "cell_type": "code",
   "execution_count": 26,
   "metadata": {},
   "outputs": [
    {
     "name": "stdout",
     "output_type": "stream",
     "text": [
      "[['how', 'can', 'I', 'contact', 'you']]\n"
     ]
    }
   ],
   "source": [
    "words =[word_tokenize(sent) for sent in sents]\n",
    "print(words)"
   ]
  },
  {
   "cell_type": "code",
   "execution_count": 27,
   "metadata": {},
   "outputs": [],
   "source": [
    "from nltk.corpus import stopwords"
   ]
  },
  {
   "cell_type": "code",
   "execution_count": 28,
   "metadata": {},
   "outputs": [],
   "source": [
    "from string import punctuation"
   ]
  },
  {
   "cell_type": "code",
   "execution_count": null,
   "metadata": {},
   "outputs": [],
   "source": [
    "nltk.download('stopwords')\n",
    "customStopWords=set(stopwords.words('english')+list(punctuation))# fails for words starting with capital"
   ]
  },
  {
   "cell_type": "code",
   "execution_count": 30,
   "metadata": {},
   "outputs": [
    {
     "name": "stdout",
     "output_type": "stream",
     "text": [
      "['I', 'contact']\n"
     ]
    }
   ],
   "source": [
    "words_not_stopWords = [word for word in word_tokenize(asked_question) if word not in customStopWords]\n",
    "print(words_not_stopWords)"
   ]
  },
  {
   "cell_type": "code",
   "execution_count": null,
   "metadata": {},
   "outputs": [],
   "source": [
    "nltk.download('averaged_perceptron_tagger')\n",
    "nltk.pos_tag(words_not_stopWords)"
   ]
  },
  {
   "cell_type": "code",
   "execution_count": 32,
   "metadata": {},
   "outputs": [
    {
     "name": "stdout",
     "output_type": "stream",
     "text": [
      "[]\n"
     ]
    }
   ],
   "source": [
    "tagged = nltk.pos_tag(words_not_stopWords)\n",
    "filtered_words = list()\n",
    "filtered_words = [item[0] for item in tagged if (item[1][0] == 'N')] # or (item[1][0] == 'V' and item[1][1] == 'B') or (item[1][0] == 'F' and item[1][1] == 'W') )] # nn,nnp,vb,vbd,cd,fw\n",
    "print(filtered_words)\n",
    "\n"
   ]
  },
  {
   "cell_type": "code",
   "execution_count": 33,
   "metadata": {},
   "outputs": [],
   "source": [
    "#since it failed to recognize contact, adding explicitly\n",
    "\n",
    "if 'contact' in words_not_stopWords:\n",
    "    filtered_words.append('contact')"
   ]
  },
  {
   "cell_type": "code",
   "execution_count": 34,
   "metadata": {},
   "outputs": [
    {
     "name": "stdout",
     "output_type": "stream",
     "text": [
      "contact\n",
      "['contact']\n"
     ]
    }
   ],
   "source": [
    "for current_word in filtered_words:\n",
    "    #check(current_word)\n",
    "    print(current_word)\n",
    "    \n",
    "    \n",
    "print(filtered_words)"
   ]
  },
  {
   "cell_type": "code",
   "execution_count": 35,
   "metadata": {},
   "outputs": [],
   "source": [
    "#check separate for hi"
   ]
  },
  {
   "cell_type": "code",
   "execution_count": 36,
   "metadata": {},
   "outputs": [],
   "source": [
    "def check(item, questions):\n",
    "    count = 0\n",
    "    ques_list = []\n",
    "    for ques in questions:\n",
    "        if item.lower() in str(ques).lower():\n",
    "            count+=1\n",
    "            ques_list.append(ques)\n",
    "            \n",
    "    print(count)\n",
    "    return count, ques_list\n",
    "    \n"
   ]
  },
  {
   "cell_type": "code",
   "execution_count": 37,
   "metadata": {},
   "outputs": [],
   "source": [
    "def find_question_list(filtered_words, questions):\n",
    "    max = 0\n",
    "    selected_word = ''\n",
    "    freq_word_questions = []\n",
    "    for current_word in filtered_words:\n",
    "        val,ques_list = check(current_word,questions)\n",
    "        if (val > max):\n",
    "            max = val\n",
    "            selected_word=current_word\n",
    "            freq_word_questions = ques_list\n",
    "            print(selected_word)\n",
    "    print(selected_word)\n",
    "    print(freq_word_questions)\n",
    "    return selected_word,freq_word_questions\n",
    "    "
   ]
  },
  {
   "cell_type": "code",
   "execution_count": 38,
   "metadata": {},
   "outputs": [
    {
     "name": "stdout",
     "output_type": "stream",
     "text": [
      "1\n",
      "contact\n",
      "contact\n",
      "['how can I contact you']\n"
     ]
    }
   ],
   "source": [
    "selected_word,freq_word_questions = find_question_list(filtered_words, qa.question)"
   ]
  },
  {
   "cell_type": "code",
   "execution_count": 39,
   "metadata": {},
   "outputs": [],
   "source": [
    "if(selected_word.lower() == 'hi'):\n",
    "    print('Hello, nice to meet you. How may I help you ?')"
   ]
  },
  {
   "cell_type": "code",
   "execution_count": 40,
   "metadata": {},
   "outputs": [],
   "source": [
    "def find_occurrence_count(word,qa):\n",
    "    for ques in qa.question:\n",
    "        if word in str(ques):\n",
    "            return 1\n",
    "        "
   ]
  },
  {
   "cell_type": "code",
   "execution_count": 41,
   "metadata": {},
   "outputs": [],
   "source": [
    "def word_in_question(filtered_words):\n",
    "    count = 0\n",
    "    for word in filtered_words:\n",
    "        count+= find_occurrence_count(word,qa)\n",
    "    return count"
   ]
  },
  {
   "cell_type": "code",
   "execution_count": 42,
   "metadata": {},
   "outputs": [
    {
     "name": "stdout",
     "output_type": "stream",
     "text": [
      "1\n"
     ]
    }
   ],
   "source": [
    "words_occurence_count = word_in_question(filtered_words)\n",
    "print(words_occurence_count)"
   ]
  },
  {
   "cell_type": "code",
   "execution_count": 43,
   "metadata": {},
   "outputs": [],
   "source": [
    "def find_next_iteration_questions(filtered_words,selected_word,freq_word_questions):\n",
    "    if((len(freq_word_questions) <= 1) or (len(filtered_words) == 1)):\n",
    "        return selected_word,freq_word_questions\n",
    "    elif(len(freq_word_questions) > 1):\n",
    "        filtered_words.remove(selected_word)\n",
    "        next_selected_word,freq_word_questions_next_iter = find_question_list(filtered_words, freq_word_questions)\n",
    "        return find_next_iteration_questions(filtered_words,next_selected_word,freq_word_questions_next_iter)\n",
    "    else:\n",
    "        return selected_word,freq_word_questions    "
   ]
  },
  {
   "cell_type": "code",
   "execution_count": 44,
   "metadata": {},
   "outputs": [],
   "source": [
    "def get_final_question_list(filtered_words,selected_word,freq_word_questions):\n",
    "    if(words_occurence_count == 1 or words_occurence_count == 0):\n",
    "        return freq_word_questions\n",
    "    else:\n",
    "        final_selected_word,final_question = find_next_iteration_questions(filtered_words,selected_word,freq_word_questions)\n",
    "        return final_question\n"
   ]
  },
  {
   "cell_type": "code",
   "execution_count": 45,
   "metadata": {},
   "outputs": [],
   "source": [
    "chatbot_selected_question = get_final_question_list(filtered_words,selected_word,freq_word_questions)\n"
   ]
  },
  {
   "cell_type": "code",
   "execution_count": 46,
   "metadata": {},
   "outputs": [
    {
     "name": "stdout",
     "output_type": "stream",
     "text": [
      "['how can I contact you']\n"
     ]
    }
   ],
   "source": [
    "print(chatbot_selected_question)"
   ]
  },
  {
   "cell_type": "code",
   "execution_count": 47,
   "metadata": {},
   "outputs": [],
   "source": [
    "if(len(chatbot_selected_question) == 0):\n",
    "    print(\"Sorry I don't have a respone. I am constantly learning\")"
   ]
  },
  {
   "cell_type": "code",
   "execution_count": 48,
   "metadata": {},
   "outputs": [
    {
     "data": {
      "text/plain": [
       "52    Here is how we can get in touch : by calling you back when you will be available, meeting us at ...\n",
       "Name: answer, dtype: object"
      ]
     },
     "execution_count": 48,
     "metadata": {},
     "output_type": "execute_result"
    }
   ],
   "source": [
    "qa.loc[qa['question']== chatbot_selected_question[0]].answer"
   ]
  },
  {
   "cell_type": "code",
   "execution_count": 49,
   "metadata": {},
   "outputs": [
    {
     "name": "stdout",
     "output_type": "stream",
     "text": [
      "['how can I contact you']\n"
     ]
    }
   ],
   "source": [
    "#now we can also display a list of other suggestions, close to user's question in the UI\n",
    "\n",
    "print(freq_word_questions)"
   ]
  },
  {
   "cell_type": "code",
   "execution_count": 50,
   "metadata": {},
   "outputs": [],
   "source": [
    "freq_word_questions.remove(chatbot_selected_question[0]) #removing our selected question from suggestion list\n",
    "\n",
    "suggestion_count = 1\n",
    "if(len(freq_word_questions) > 0):\n",
    "    for ques in freq_word_questions:\n",
    "        print(str(suggestion_count) + \" \" + str(ques)+\"\\n\")\n",
    "        suggestion_count+=1"
   ]
  },
  {
   "cell_type": "code",
   "execution_count": null,
   "metadata": {},
   "outputs": [],
   "source": []
  }
 ],
 "metadata": {
  "kernelspec": {
   "display_name": "Python 3 (ipykernel)",
   "language": "python",
   "name": "python3"
  },
  "language_info": {
   "codemirror_mode": {
    "name": "ipython",
    "version": 3
   },
   "file_extension": ".py",
   "mimetype": "text/x-python",
   "name": "python",
   "nbconvert_exporter": "python",
   "pygments_lexer": "ipython3",
   "version": "3.8.10"
  }
 },
 "nbformat": 4,
 "nbformat_minor": 2
}
